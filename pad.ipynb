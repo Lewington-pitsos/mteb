{
 "cells": [
  {
   "cell_type": "code",
   "execution_count": 2,
   "metadata": {},
   "outputs": [],
   "source": [
    "import mteb"
   ]
  },
  {
   "cell_type": "code",
   "execution_count": 3,
   "metadata": {},
   "outputs": [
    {
     "name": "stdout",
     "output_type": "stream",
     "text": [
      "16\n"
     ]
    }
   ],
   "source": [
    "tasks = mteb.get_tasks(languages=[\"eng\"], task_types=['Clustering'])\n",
    "print(len(tasks))\n"
   ]
  },
  {
   "cell_type": "code",
   "execution_count": 23,
   "metadata": {},
   "outputs": [],
   "source": [
    "TASK_LIST = [\n",
    "    \"AmazonCounterfactualClassification\",\n",
    "    # \"AmazonPolarityClassification\",\n",
    "    \"AmazonReviewsClassification\",\n",
    "    \"Banking77Classification\",\n",
    "    \"EmotionClassification\",\n",
    "    \"ImdbClassification\",\n",
    "    \"MassiveIntentClassification\",\n",
    "    \"MassiveScenarioClassification\",\n",
    "    \"MTOPDomainClassification\",\n",
    "    \"MTOPIntentClassification\",\n",
    "    \"ToxicConversationsClassification\",\n",
    "    \"TweetSentimentExtractionClassification\",\n",
    "\n",
    "    # \"ArxivClusteringP2P\",\n",
    "    # \"ArxivClusteringS2S\",\n",
    "    \"BiorxivClusteringP2P\",\n",
    "    \"BiorxivClusteringS2S\",\n",
    "    \"MedrxivClusteringP2P\",\n",
    "    \"MedrxivClusteringS2S\",\n",
    "    # \"RedditClustering\",\n",
    "    # \"RedditClusteringP2P\",\n",
    "    # \"StackExchangeClustering\",\n",
    "    \"StackExchangeClusteringP2P\",\n",
    "    \"TwentyNewsgroupsClustering\",\n",
    "\n",
    "\n",
    "]"
   ]
  },
  {
   "cell_type": "code",
   "execution_count": 26,
   "metadata": {},
   "outputs": [
    {
     "name": "stdout",
     "output_type": "stream",
     "text": [
      "AmazonCounterfactualClassification(name='AmazonCounterfactualClassification', languages=[]) 335\n",
      "AmazonCounterfactualClassification(name='AmazonCounterfactualClassification', languages=[]) 670\n",
      "AmazonReviewsClassification(name='AmazonReviewsClassification', languages=[]) 30000\n",
      "AmazonReviewsClassification(name='AmazonReviewsClassification', languages=[]) 30000\n",
      "Banking77Classification(name='Banking77Classification', languages=['eng']) 3080\n",
      "EmotionClassification(name='EmotionClassification', languages=['eng']) 2000\n",
      "EmotionClassification(name='EmotionClassification', languages=['eng']) 2000\n",
      "ImdbClassification(name='ImdbClassification', languages=['eng']) 25000\n",
      "MassiveIntentClassification(name='MassiveIntentClassification', languages=[]) 2033\n",
      "MassiveIntentClassification(name='MassiveIntentClassification', languages=[]) 2974\n",
      "MassiveScenarioClassification(name='MassiveScenarioClassification', languages=[]) 2033\n",
      "MassiveScenarioClassification(name='MassiveScenarioClassification', languages=[]) 2974\n",
      "MTOPDomainClassification(name='MTOPDomainClassification', languages=[]) 2235\n",
      "MTOPDomainClassification(name='MTOPDomainClassification', languages=[]) 4386\n",
      "MTOPIntentClassification(name='MTOPIntentClassification', languages=[]) 2235\n",
      "MTOPIntentClassification(name='MTOPIntentClassification', languages=[]) 4386\n",
      "ToxicConversationsClassification(name='ToxicConversationsClassification', languages=['eng']) 50000\n",
      "TweetSentimentExtractionClassification(name='TweetSentimentExtractionClassification', languages=['eng']) 3534\n",
      "BiorxivClusteringP2P(name='BiorxivClusteringP2P', languages=['eng']) 75000\n",
      "BiorxivClusteringS2S(name='BiorxivClusteringS2S', languages=['eng']) 75000\n",
      "MedrxivClusteringP2P(name='MedrxivClusteringP2P', languages=['eng']) 37500\n",
      "MedrxivClusteringS2S(name='MedrxivClusteringS2S', languages=['eng']) 37500\n",
      "StackExchangeClusteringP2P(name='StackExchangeClusteringP2P', languages=['eng']) 75000\n",
      "TwentyNewsgroupsClustering(name='TwentyNewsgroupsClustering', languages=['eng']) 59545\n",
      "17 529,420\n"
     ]
    }
   ],
   "source": [
    "\n",
    "tasks = mteb.get_tasks(languages=[\"en\"], tasks=TASK_LIST)\n",
    "\n",
    "total_test = 0\n",
    "for t in tasks:\n",
    "    if t.metadata.n_samples is not None:\n",
    "        for k, v in t.metadata.n_samples.items():\n",
    "            print(t, t.metadata.n_samples[k])\n",
    "            total_test += t.metadata.n_samples[k]\n",
    "\n",
    "print(len(tasks), f\"{total_test:,}\")"
   ]
  },
  {
   "cell_type": "code",
   "execution_count": 19,
   "metadata": {},
   "outputs": [
    {
     "name": "stdout",
     "output_type": "stream",
     "text": [
      "260\n"
     ]
    }
   ],
   "source": [
    "tasks = mteb.get_tasks(languages=[\"eng\"], task_types=['Classification', 'Clustering', 'PairClassification', 'Reranking', 'Retrieval', 'STS', 'Summarization'])\n",
    "print(len(tasks))"
   ]
  },
  {
   "cell_type": "code",
   "execution_count": 20,
   "metadata": {},
   "outputs": [],
   "source": [
    "import torch"
   ]
  },
  {
   "cell_type": "code",
   "execution_count": null,
   "metadata": {},
   "outputs": [],
   "source": []
  }
 ],
 "metadata": {
  "kernelspec": {
   "display_name": "v",
   "language": "python",
   "name": "python3"
  },
  "language_info": {
   "codemirror_mode": {
    "name": "ipython",
    "version": 3
   },
   "file_extension": ".py",
   "mimetype": "text/x-python",
   "name": "python",
   "nbconvert_exporter": "python",
   "pygments_lexer": "ipython3",
   "version": "3.10.12"
  }
 },
 "nbformat": 4,
 "nbformat_minor": 2
}
