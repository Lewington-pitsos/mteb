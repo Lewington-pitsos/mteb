{
 "cells": [
  {
   "cell_type": "code",
   "execution_count": 14,
   "metadata": {},
   "outputs": [
    {
     "name": "stderr",
     "output_type": "stream",
     "text": [
      "/Users/plato/code/mteb/v/lib/python3.10/site-packages/tqdm/auto.py:21: TqdmWarning: IProgress not found. Please update jupyter and ipywidgets. See https://ipywidgets.readthedocs.io/en/stable/user_install.html\n",
      "  from .autonotebook import tqdm as notebook_tqdm\n"
     ]
    }
   ],
   "source": [
    "import mteb"
   ]
  },
  {
   "cell_type": "code",
   "execution_count": 15,
   "metadata": {},
   "outputs": [],
   "source": [
    "tasks = mteb.get_tasks(tasks=[\"Banking77Classification\"])\n",
    "evaluation = mteb.MTEB(tasks=tasks)"
   ]
  },
  {
   "cell_type": "code",
   "execution_count": 21,
   "metadata": {},
   "outputs": [
    {
     "data": {
      "text/plain": [
       "['test']"
      ]
     },
     "execution_count": 21,
     "metadata": {},
     "output_type": "execute_result"
    }
   ],
   "source": [
    "evaluation.tasks[0].metadata_dict.get(\"eval_splits\", [])"
   ]
  },
  {
   "cell_type": "code",
   "execution_count": 22,
   "metadata": {},
   "outputs": [],
   "source": [
    "data = evaluation.tasks[0].load_data(evaluation_splits=[\"test\"])"
   ]
  },
  {
   "cell_type": "code",
   "execution_count": 28,
   "metadata": {},
   "outputs": [
    {
     "data": {
      "text/plain": [
       "'logReg'"
      ]
     },
     "execution_count": 28,
     "metadata": {},
     "output_type": "execute_result"
    }
   ],
   "source": [
    "evaluation.tasks[0].method"
   ]
  },
  {
   "cell_type": "code",
   "execution_count": 17,
   "metadata": {},
   "outputs": [
    {
     "data": {
      "text/plain": [
       "['__class__',\n",
       " '__delattr__',\n",
       " '__dict__',\n",
       " '__dir__',\n",
       " '__doc__',\n",
       " '__eq__',\n",
       " '__format__',\n",
       " '__ge__',\n",
       " '__getattribute__',\n",
       " '__gt__',\n",
       " '__hash__',\n",
       " '__init__',\n",
       " '__init_subclass__',\n",
       " '__le__',\n",
       " '__lt__',\n",
       " '__module__',\n",
       " '__ne__',\n",
       " '__new__',\n",
       " '__reduce__',\n",
       " '__reduce_ex__',\n",
       " '__repr__',\n",
       " '__setattr__',\n",
       " '__sizeof__',\n",
       " '__str__',\n",
       " '__subclasshook__',\n",
       " '__weakref__',\n",
       " '_display_tasks',\n",
       " '_extend_lang_code',\n",
       " '_extend_lang_pairs',\n",
       " '_run_eval',\n",
       " '_save_model_metadata',\n",
       " '_task_langs',\n",
       " '_tasks',\n",
       " '_version',\n",
       " 'available_task_categories',\n",
       " 'available_task_types',\n",
       " 'available_tasks',\n",
       " 'create_model_meta',\n",
       " 'create_output_folder',\n",
       " 'deprecation_warning',\n",
       " 'err_logs_path',\n",
       " 'load_tasks_data',\n",
       " 'mteb_tasks',\n",
       " 'print_selected_tasks',\n",
       " 'run',\n",
       " 'select_tasks',\n",
       " 'tasks',\n",
       " 'tasks_cls']"
      ]
     },
     "execution_count": 17,
     "metadata": {},
     "output_type": "execute_result"
    }
   ],
   "source": [
    "dir(evaluation)"
   ]
  },
  {
   "cell_type": "code",
   "execution_count": 7,
   "metadata": {},
   "outputs": [
    {
     "name": "stdout",
     "output_type": "stream",
     "text": [
      "torch.Size([16, 64])\n",
      "torch.Size([16])\n"
     ]
    },
    {
     "data": {
      "text/plain": [
       "tensor([[0.1250, 0.1250, 0.1250,  ..., 0.1250, 0.1250, 0.1250],\n",
       "        [0.1250, 0.1250, 0.1250,  ..., 0.1250, 0.1250, 0.1250],\n",
       "        [0.1250, 0.1250, 0.1250,  ..., 0.1250, 0.1250, 0.1250],\n",
       "        ...,\n",
       "        [0.1250, 0.1250, 0.1250,  ..., 0.1250, 0.1250, 0.1250],\n",
       "        [0.1250, 0.1250, 0.1250,  ..., 0.1250, 0.1250, 0.1250],\n",
       "        [0.1250, 0.1250, 0.1250,  ..., 0.1250, 0.1250, 0.1250]])"
      ]
     },
     "execution_count": 7,
     "metadata": {},
     "output_type": "execute_result"
    }
   ],
   "source": [
    "import torch\n",
    "\n",
    "a = torch.ones(16, 64) * 4\n",
    "\n",
    "b = (torch.rand(16, 32) > 0) * 1.0\n",
    "\n",
    "b = torch.sum(b, dim=1)\n",
    "\n",
    "print(a.shape)\n",
    "print(b.shape)\n",
    "\n",
    "a / b.unsqueeze(1)\n",
    "\n"
   ]
  },
  {
   "cell_type": "code",
   "execution_count": 8,
   "metadata": {},
   "outputs": [],
   "source": [
    "from matplotlib import pyplot as plt\n",
    "import json"
   ]
  },
  {
   "cell_type": "code",
   "execution_count": 12,
   "metadata": {},
   "outputs": [],
   "source": [
    "with open('stats2.json') as f:\n",
    "    stats = json.load(f)"
   ]
  },
  {
   "cell_type": "code",
   "execution_count": 13,
   "metadata": {},
   "outputs": [
    {
     "data": {
      "text/plain": [
       "(array([ 1.,  1.,  0.,  0.,  4.,  3.,  7.,  2.,  6.,  4.,  4.,  7.,  3.,\n",
       "         8.,  7.,  7.,  3.,  5.,  4.,  1.,  5.,  5.,  8.,  4.,  9., 10.,\n",
       "         5.,  5.,  5.,  6.,  8.,  8.,  5.,  7., 11.,  7.,  6.,  5.,  5.,\n",
       "         4.,  5.,  9.,  7.,  3.,  3.,  5.,  3.,  3.,  4.,  5.,  2.,  5.,\n",
       "         1.,  2.,  2.,  1.,  0.,  2.,  4.,  2.,  2.,  2.,  0.,  2.,  4.,\n",
       "         0.,  0.,  0.,  0.,  2.,  0.,  0.,  0.,  0.,  0.,  0.,  2.,  1.,\n",
       "         0.,  1.,  1.,  0.,  0.,  2.,  1.,  0.,  0.,  0.,  1.,  1.,  0.,\n",
       "         0.,  1.,  0.,  0.,  0.,  0.,  0.,  0.,  1.]),\n",
       " array([0.71992999, 0.7452148 , 0.77049961, 0.79578441, 0.82106922,\n",
       "        0.84635403, 0.87163884, 0.89692364, 0.92220845, 0.94749326,\n",
       "        0.97277806, 0.99806287, 1.02334768, 1.04863249, 1.07391729,\n",
       "        1.0992021 , 1.12448691, 1.14977171, 1.17505652, 1.20034133,\n",
       "        1.22562613, 1.25091094, 1.27619575, 1.30148056, 1.32676536,\n",
       "        1.35205017, 1.37733498, 1.40261978, 1.42790459, 1.4531894 ,\n",
       "        1.47847421, 1.50375901, 1.52904382, 1.55432863, 1.57961343,\n",
       "        1.60489824, 1.63018305, 1.65546786, 1.68075266, 1.70603747,\n",
       "        1.73132228, 1.75660708, 1.78189189, 1.8071767 , 1.8324615 ,\n",
       "        1.85774631, 1.88303112, 1.90831593, 1.93360073, 1.95888554,\n",
       "        1.98417035, 2.00945515, 2.03473996, 2.06002477, 2.08530958,\n",
       "        2.11059438, 2.13587919, 2.161164  , 2.1864488 , 2.21173361,\n",
       "        2.23701842, 2.26230323, 2.28758803, 2.31287284, 2.33815765,\n",
       "        2.36344245, 2.38872726, 2.41401207, 2.43929688, 2.46458168,\n",
       "        2.48986649, 2.5151513 , 2.5404361 , 2.56572091, 2.59100572,\n",
       "        2.61629052, 2.64157533, 2.66686014, 2.69214495, 2.71742975,\n",
       "        2.74271456, 2.76799937, 2.79328417, 2.81856898, 2.84385379,\n",
       "        2.8691386 , 2.8944234 , 2.91970821, 2.94499302, 2.97027782,\n",
       "        2.99556263, 3.02084744, 3.04613225, 3.07141705, 3.09670186,\n",
       "        3.12198667, 3.14727147, 3.17255628, 3.19784109, 3.22312589,\n",
       "        3.2484107 ]),\n",
       " <BarContainer object of 100 artists>)"
      ]
     },
     "execution_count": 13,
     "metadata": {},
     "output_type": "execute_result"
    },
    {
     "data": {
      "image/png": "[encoded data removed]",
      "text/plain": [
       "<Figure size 1000x500 with 2 Axes>"
      ]
     },
     "metadata": {},
     "output_type": "display_data"
    }
   ],
   "source": [
    "# plot means and stds historgrams next to each other \n",
    "\n",
    "fig, axs = plt.subplots(1, 2, figsize=(10, 5))\n",
    "\n",
    "means = stats['means']\n",
    "stds = stats['stds']\n",
    "\n",
    "axs[0].hist(means, bins=100)\n",
    "axs[1].hist(stds, bins=100)"
   ]
  },
  {
   "cell_type": "code",
   "execution_count": 10,
   "metadata": {},
   "outputs": [
    {
     "data": {
      "text/plain": [
       "(array([40., 38., 68., 65., 42., 21., 13.,  4.,  5.,  1.]),\n",
       " array([0.20230417, 0.24510125, 0.28789833, 0.3306954 , 0.37349248,\n",
       "        0.41628956, 0.45908664, 0.50188372, 0.5446808 , 0.58747787,\n",
       "        0.63027495]),\n",
       " <BarContainer object of 10 artists>)"
      ]
     },
     "execution_count": 10,
     "metadata": {},
     "output_type": "execute_result"
    },
    {
     "data": {
      "image/png": "[encoded data removed]",
      "text/plain": [
       "<Figure size 640x480 with 1 Axes>"
      ]
     },
     "metadata": {},
     "output_type": "display_data"
    }
   ],
   "source": [
    "plt.hist(stats['means'])"
   ]
  },
  {
   "cell_type": "code",
   "execution_count": 11,
   "metadata": {},
   "outputs": [
    {
     "data": {
      "text/plain": [
       "(array([56., 34., 75., 55., 42., 15.,  8.,  6.,  5.,  1.]),\n",
       " array([ 7.53105068,  9.78496637, 12.03888206, 14.29279776, 16.54671345,\n",
       "        18.80062914, 21.05454483, 23.30846052, 25.56237621, 27.8162919 ,\n",
       "        30.0702076 ]),\n",
       " <BarContainer object of 10 artists>)"
      ]
     },
     "execution_count": 11,
     "metadata": {},
     "output_type": "execute_result"
    },
    {
     "data": {
      "image/png": "[encoded data removed]",
      "text/plain": [
       "<Figure size 640x480 with 1 Axes>"
      ]
     },
     "metadata": {},
     "output_type": "display_data"
    }
   ],
   "source": [
    "plt.hist(stats['stds'])"
   ]
  },
  {
   "cell_type": "code",
   "execution_count": null,
   "metadata": {},
   "outputs": [],
   "source": []
  }
 ],
 "metadata": {
  "kernelspec": {
   "display_name": "v",
   "language": "python",
   "name": "python3"
  },
  "language_info": {
   "codemirror_mode": {
    "name": "ipython",
    "version": 3
   },
   "file_extension": ".py",
   "mimetype": "text/x-python",
   "name": "python",
   "nbconvert_exporter": "python",
   "pygments_lexer": "ipython3",
   "version": "3.10.14"
  }
 },
 "nbformat": 4,
 "nbformat_minor": 2
}
